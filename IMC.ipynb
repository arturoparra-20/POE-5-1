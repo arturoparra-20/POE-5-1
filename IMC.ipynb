{
  "nbformat": 4,
  "nbformat_minor": 0,
  "metadata": {
    "colab": {
      "name": "IMC.ipynb",
      "provenance": [],
      "authorship_tag": "ABX9TyMiP7kI5uTQgY1CtW/0HtHr",
      "include_colab_link": true
    },
    "kernelspec": {
      "name": "python3",
      "display_name": "Python 3"
    },
    "language_info": {
      "name": "python"
    }
  },
  "cells": [
    {
      "cell_type": "markdown",
      "metadata": {
        "id": "view-in-github",
        "colab_type": "text"
      },
      "source": [
        "<a href=\"https://colab.research.google.com/github/arturoparra-20/POE-5-1/blob/gh-pages/IMC.ipynb\" target=\"_parent\"><img src=\"https://colab.research.google.com/assets/colab-badge.svg\" alt=\"Open In Colab\"/></a>"
      ]
    },
    {
      "cell_type": "code",
      "execution_count": 1,
      "metadata": {
        "colab": {
          "base_uri": "https://localhost:8080/"
        },
        "cellView": "form",
        "id": "mL6GKK3L2mRa",
        "outputId": "a7c7076b-4242-4a92-9623-c58dcc4249f4"
      },
      "outputs": [
        {
          "output_type": "stream",
          "name": "stdout",
          "text": [
            "25.10633270321361\n"
          ]
        }
      ],
      "source": [
        "#@title Calculo de IMC { run: \"auto\", vertical-output: true }\n",
        "Peso =  85#@param {type:\"number\"}\n",
        "Estatura =  1.84#@param {type:\"number\"}\n",
        "print((Peso)/(Estatura*Estatura))\n"
      ]
    }
  ]
}